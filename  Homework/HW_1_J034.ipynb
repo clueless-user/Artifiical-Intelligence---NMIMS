{
  "nbformat": 4,
  "nbformat_minor": 0,
  "metadata": {
    "colab": {
      "name": "HW 1 J034.ipynb",
      "provenance": [],
      "collapsed_sections": [],
      "authorship_tag": "ABX9TyNoaLc3sjlOhCtuzuzu8dTR",
      "include_colab_link": true
    },
    "kernelspec": {
      "name": "python3",
      "display_name": "Python 3"
    }
  },
  "cells": [
    {
      "cell_type": "markdown",
      "metadata": {
        "id": "view-in-github",
        "colab_type": "text"
      },
      "source": [
        "<a href=\"https://colab.research.google.com/github/clueless-user/Artifiical-Intelligence---NMIMS/blob/master/%20Homework/HW_1_J034.ipynb\" target=\"_parent\"><img src=\"https://colab.research.google.com/assets/colab-badge.svg\" alt=\"Open In Colab\"/></a>"
      ]
    },
    {
      "cell_type": "markdown",
      "metadata": {
        "id": "tNl989YOC5Z8",
        "colab_type": "text"
      },
      "source": [
        "\n",
        "**Task 1**\\\n",
        "Given an integer, , perform the following conditional actions:\n",
        "\n",
        "If  is odd, print Weird\\\n",
        "If **$N$** is even and in the inclusive range of  to , print Not Weird\\\n",
        "If **$N$**  is even and in the inclusive range of  to , print Weird\\\n",
        "If **$N$**   is even and greater than , print Not Weird\n",
        "\n",
        "\n",
        "A single line containing a positive integer **$N$**, .\n",
        "\n",
        "Constrains:\n",
        "**$1 $$\\geq$  $N$  $\\le$$ 100$**\n",
        "\n",
        "\n"
      ]
    },
    {
      "cell_type": "code",
      "metadata": {
        "id": "yfjkqKb0DWrH",
        "colab_type": "code",
        "colab": {}
      },
      "source": [
        "\n",
        "\n",
        "def solver(n):\n",
        "   \n",
        "    if n % 2 != 0:\n",
        "      print (\"Weird\")  \n",
        "    \n",
        "    else :\n",
        "        if n >= 2 and n <= 5:\n",
        "            print(\"Not Weird\")\n",
        "      \n",
        "        elif n >= 6 and n <= 20:\n",
        "            print(\"Weird\")\n",
        "        \n",
        "        elif n >= 20 :\n",
        "            print(\"Not Weird\")\n",
        "\n",
        "\n",
        "if __name__ == '__main__':\n",
        "    n = int(input().strip())\n",
        "    if n >= 0 and n <= 100:\n",
        "        solver(n)\n"
      ],
      "execution_count": null,
      "outputs": []
    },
    {
      "cell_type": "markdown",
      "metadata": {
        "id": "cJ5_vcU4Eiu4",
        "colab_type": "text"
      },
      "source": [
        "**Task 2**\\\n",
        "Read two integers from STDIN and print three lines where:\n",
        "\n",
        "**1.** The first line contains the sum of the two numbers.\\\n",
        "**2.** The second line contains the difference of the two numbers (first - second).\\\n",
        "**3.** The third line contains the product of the two numbers.\n",
        "Input Format\n",
        "\n",
        "The first line contains the first integer, **$a$** . The second line contains the second integer, **$b$** ."
      ]
    },
    {
      "cell_type": "code",
      "metadata": {
        "id": "XfhOQVakEhml",
        "colab_type": "code",
        "colab": {}
      },
      "source": [
        "def calc(a,b):\n",
        "    add = a + b\n",
        "    print(add)\n",
        "    sub = a - b\n",
        "    print(sub)\n",
        "    mul = a * b\n",
        "    print(mul)\n",
        "\n",
        "\n",
        "if __name__ == '__main__':\n",
        "    a = int(input())\n",
        "    b = int(input())\n",
        "    calc(a,b)"
      ],
      "execution_count": null,
      "outputs": []
    },
    {
      "cell_type": "markdown",
      "metadata": {
        "id": "OSRidigNG9vu",
        "colab_type": "text"
      },
      "source": [
        "**Task 3**\\\n",
        "Read two integers and print two lines.\\\n",
        "The first line should contain integer division, **$a$** // **$b$** . The second line should contain float division,  **$a$** / **$b$** .\n",
        "\n",
        "You don't need to perform any rounding or formatting operations.\n",
        "\n",
        "Input Format\n",
        "\n",
        "The first line contains the first integer, **$a$** . The second line contains the second integer, **$b$** ."
      ]
    },
    {
      "cell_type": "code",
      "metadata": {
        "id": "B0Nm5L4LG-ZJ",
        "colab_type": "code",
        "colab": {}
      },
      "source": [
        "def divide(a, b):\n",
        "    floor_div = a // b\n",
        "    print(floor_div)\n",
        "    div = a / b\n",
        "    print(div)\n",
        "\n",
        "\n",
        "\n",
        "if __name__ == '__main__':\n",
        "    a = int(input())\n",
        "    b = int(input())\n",
        "    divide(a,b)"
      ],
      "execution_count": null,
      "outputs": []
    },
    {
      "cell_type": "markdown",
      "metadata": {
        "id": "l4rPpgLaIpkQ",
        "colab_type": "text"
      },
      "source": [
        "**Task 4**\\\n",
        "Read an integer **$N$** . For all non-negative integers **$i < N$** , print **$i^2$** . \\\n",
        "\n",
        "Constraints\\\n",
        "**$1 $$\\geq$  $N$  $\\le$$ 100$**\n",
        "\n"
      ]
    },
    {
      "cell_type": "code",
      "metadata": {
        "id": "4j5PQGT8IpqL",
        "colab_type": "code",
        "colab": {}
      },
      "source": [
        "def squared_thingy(n):\n",
        "    for i in range(n):\n",
        "        print(i**2)\n",
        "\n",
        "if __name__ == '__main__':\n",
        "    n = int(input())\n",
        "    if n >= 0 and n <= 20:\n",
        "        squared_thingy(n)"
      ],
      "execution_count": null,
      "outputs": []
    },
    {
      "cell_type": "markdown",
      "metadata": {
        "id": "MbE0oRauL8Hw",
        "colab_type": "text"
      },
      "source": [
        "**Task 5**\\\n",
        "Read an integer **$N$**.\n",
        "\n",
        "Without using any string methods, try to print the following:\n",
        "**$123...N$**\n",
        "\n",
        "Note that \"**$...$**\" represents the values in between."
      ]
    },
    {
      "cell_type": "code",
      "metadata": {
        "id": "ru7Uc0BcL8QL",
        "colab_type": "code",
        "colab": {}
      },
      "source": [
        "def N_print(n):\n",
        "    x = [x for x in range(1,n + 1)]\n",
        "    for a in range (len(x)):\n",
        "        print(x[a], end ='')\n",
        "        \n",
        "\n",
        "if __name__ == '__main__':\n",
        "    n = int(input())\n",
        "    N_print(n)"
      ],
      "execution_count": null,
      "outputs": []
    },
    {
      "cell_type": "markdown",
      "metadata": {
        "id": "ryeF69AqPjnK",
        "colab_type": "text"
      },
      "source": [
        "**Task 6**\\\n",
        "You are given three integers**$X,Y,Z$**  and  representing the dimensions of a cuboid along with an integer **$N$**.\\\n",
        " You have to print a list of all possible coordinates given by `**$(i,j,k)$**  on a 3D grid where the sum of **$(i + j + k)$** is not equal to **$N$** . \\\n",
        " Here, **$0 $$\\le$ $i$ $\\le$ $X$ $;$ $0 $$\\le$ $j$ $\\le$ $Y$ $;$ $0 $$\\le$ $k$ $\\le$ $Z$**\n",
        "\n",
        "Input Format\n",
        "\n",
        "Four integers **$X,Y,Z,N$** and  each on four separate lines, respectively."
      ]
    },
    {
      "cell_type": "code",
      "metadata": {
        "id": "jL-K-S4HPkCQ",
        "colab_type": "code",
        "colab": {}
      },
      "source": [
        "def comp(X, Y, Z, n):\n",
        "    arr = [[X, Y, Z] for x in range(x+1) for Y in range(y+1) for Z in range(z+1) if X \n",
        "    +Y + Z != n]\n",
        "    print(arr)\n",
        "\n",
        "if __name__ == '__main__':\n",
        "    x = int(input())\n",
        "    y = int(input())\n",
        "    z = int(input())\n",
        "    n = int(input())\n",
        "    comp(x,y,z,n)"
      ],
      "execution_count": null,
      "outputs": []
    }
  ]
}