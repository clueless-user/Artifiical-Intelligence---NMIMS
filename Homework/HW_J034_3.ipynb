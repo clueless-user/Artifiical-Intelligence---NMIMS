{
  "nbformat": 4,
  "nbformat_minor": 0,
  "metadata": {
    "colab": {
      "name": "HW_J034_3.ipynb",
      "provenance": [],
      "collapsed_sections": [],
      "authorship_tag": "ABX9TyOkaRDQC+EtJ3c6KAYnqMzt",
      "include_colab_link": true
    },
    "kernelspec": {
      "name": "python3",
      "display_name": "Python 3"
    }
  },
  "cells": [
    {
      "cell_type": "markdown",
      "metadata": {
        "id": "view-in-github",
        "colab_type": "text"
      },
      "source": [
        "<a href=\"https://colab.research.google.com/github/clueless-user/Artifiical-Intelligence---NMIMS/blob/master/Homework/HW_J034_3.ipynb\" target=\"_parent\"><img src=\"https://colab.research.google.com/assets/colab-badge.svg\" alt=\"Open In Colab\"/></a>"
      ]
    },
    {
      "cell_type": "markdown",
      "metadata": {
        "id": "pAVYm6pk7hF9",
        "colab_type": "text"
      },
      "source": [
        "# The coin change problem"
      ]
    },
    {
      "cell_type": "code",
      "metadata": {
        "id": "mrzpOLjqoMLs",
        "colab_type": "code",
        "colab": {
          "base_uri": "https://localhost:8080/",
          "height": 68
        },
        "outputId": "f9d3adc9-3992-4f84-9ad6-3172c09bc3c1"
      },
      "source": [
        "\n",
        "def count(S, m, n): \n",
        "\n",
        "    table = [[0 for x in range(m)] for x in range(n+1)] \n",
        "   \n",
        "    for i in range(m): \n",
        "        table[0][i] = 1\n",
        "  \n",
        "    for i in range(1, n+1): \n",
        "        for j in range(m): \n",
        "  \n",
        "            x = table[i - S[j]][j] if i-S[j] >= 0 else 0\n",
        "            y = table[i][j-1] if j >= 1 else 0\n",
        "            table[i][j] = x + y \n",
        "  \n",
        "    return table[n][m-1] \n",
        "  \n",
        "first_multiple_input = input().rstrip().split()\n",
        "n = int(first_multiple_input[0])\n",
        "m = int(first_multiple_input[1])\n",
        "c = list(map(int, input().rstrip().split()))\n",
        "print(count(c, m, n))\n"
      ],
      "execution_count": 6,
      "outputs": [
        {
          "output_type": "stream",
          "text": [
            "4 3\n",
            "1 2 3\n",
            "4\n"
          ],
          "name": "stdout"
        }
      ]
    },
    {
      "cell_type": "markdown",
      "metadata": {
        "id": "mv3pT2Ga7u4k",
        "colab_type": "text"
      },
      "source": [
        "#Sherlock and cost\n"
      ]
    },
    {
      "cell_type": "code",
      "metadata": {
        "id": "VpI9izqlv01n",
        "colab_type": "code",
        "colab": {
          "base_uri": "https://localhost:8080/",
          "height": 85
        },
        "outputId": "d7b65556-83fb-4ac3-f20e-9f27ad9843e7"
      },
      "source": [
        "def cost(B):\n",
        "    L = len(B)\n",
        "    dp = matrix = [[0 for i in range(2)] for i in range(L)]\n",
        "    i = 1\n",
        "    while i < len(B):\n",
        "        dp[i][0]=max(dp[i - 1][0], dp[i - 1][1]+B[i - 1] - 1)\n",
        "        dp[i][1]=max(dp[i - 1][0] + B[i] - 1, dp[i - 1][1]+abs(B[i] - B[i - 1]))\n",
        "        i += 1\n",
        "    return max(dp[L-1][0],dp[L-1][1])\n",
        "\n",
        "if __name__ == '__main__':\n",
        "    t = int(input())\n",
        "\n",
        "    for t_itr in range(t):\n",
        "        n = int(input())\n",
        "\n",
        "        B = list(map(int, input().rstrip().split()))\n",
        "\n",
        "        result = cost(B)\n",
        "        print(result)\n"
      ],
      "execution_count": 8,
      "outputs": [
        {
          "output_type": "stream",
          "text": [
            "1\n",
            "5\n",
            "10 1 10 1 10\n",
            "36\n"
          ],
          "name": "stdout"
        }
      ]
    },
    {
      "cell_type": "markdown",
      "metadata": {
        "id": "N0T_CkR076OU",
        "colab_type": "text"
      },
      "source": [
        "#Validating postal codes\n"
      ]
    },
    {
      "cell_type": "code",
      "metadata": {
        "id": "npWhnDZm6zgE",
        "colab_type": "code",
        "colab": {
          "base_uri": "https://localhost:8080/",
          "height": 51
        },
        "outputId": "7d999afe-3eea-41e7-f2b7-b0ec4dca1c22"
      },
      "source": [
        "import re\n",
        "regex_integer_in_range = r\"^[1-9][\\d]{5}$\"\t# Do not delete 'r'.\n",
        "regex_alternating_repetitive_digit_pair = r\"(\\d)(?=\\d\\1)\"\t# Do not delete 'r'\n",
        "\n",
        "Postal_code = input()\n",
        "\n",
        "print (bool(re.match(regex_integer_in_range, Postal_code)) \n",
        "and len(re.findall(regex_alternating_repetitive_digit_pair, Postal_code)) < 2)"
      ],
      "execution_count": 9,
      "outputs": [
        {
          "output_type": "stream",
          "text": [
            "1010101\n",
            "False\n"
          ],
          "name": "stdout"
        }
      ]
    }
  ]
}